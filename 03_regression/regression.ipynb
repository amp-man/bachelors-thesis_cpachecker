{
 "cells": [
  {
   "cell_type": "code",
   "execution_count": 1,
   "id": "21989099-c054-45ea-bd42-a2f14f48e743",
   "metadata": {},
   "outputs": [],
   "source": [
    "import pandas as pd\n",
    "import seaborn as sns\n",
    "from sklearn.linear_model import LinearRegression\n",
    "from sklearn.model_selection import cross_val_score\n",
    "from sklearn.pipeline import make_pipeline\n",
    "from sklearn.preprocessing import StandardScaler\n",
    "from sklearn.feature_selection import SequentialFeatureSelector\n",
    "\n",
    "sns.set_theme()"
   ]
  },
  {
   "cell_type": "markdown",
   "id": "bdef1804-dd5b-4803-b697-1f4ed7db23f4",
   "metadata": {
    "tags": []
   },
   "source": [
    "# Import buildbot nightly-value run 00437"
   ]
  },
  {
   "cell_type": "code",
   "execution_count": 2,
   "id": "cb73f66e-6e61-46d9-8419-aac07a84a1f6",
   "metadata": {
    "tags": []
   },
   "outputs": [],
   "source": [
    "data_dirty = pd.read_csv(filepath_or_buffer='./00437.-r_integration-nightly-value.2023-03-01_00-26-24.table.csv',sep='\\t',header=2,index_col=0)"
   ]
  },
  {
   "cell_type": "code",
   "execution_count": 17,
   "id": "c15186af-3b9a-4901-a212-c31c898cddbf",
   "metadata": {
    "tags": []
   },
   "outputs": [
    {
     "data": {
      "text/html": [
       "<div>\n",
       "<style scoped>\n",
       "    .dataframe tbody tr th:only-of-type {\n",
       "        vertical-align: middle;\n",
       "    }\n",
       "\n",
       "    .dataframe tbody tr th {\n",
       "        vertical-align: top;\n",
       "    }\n",
       "\n",
       "    .dataframe thead th {\n",
       "        text-align: right;\n",
       "    }\n",
       "</style>\n",
       "<table border=\"1\" class=\"dataframe\">\n",
       "  <thead>\n",
       "    <tr style=\"text-align: right;\">\n",
       "      <th></th>\n",
       "      <th>Unnamed: 1</th>\n",
       "      <th>status</th>\n",
       "      <th>CPU Time (s)</th>\n",
       "      <th>Wall Time (s)</th>\n",
       "      <th>Memory (MB)</th>\n",
       "      <th>Size of reached set</th>\n",
       "      <th>Number of iterations</th>\n",
       "      <th>Number of abstraction computations</th>\n",
       "      <th>Number of variables per state</th>\n",
       "      <th>Number of global variables per state</th>\n",
       "      <th>...</th>\n",
       "      <th>Number of functions</th>\n",
       "      <th>Number of loops (and loop nodes)</th>\n",
       "      <th>Number of reached locations</th>\n",
       "      <th>Avg states per location</th>\n",
       "      <th>Max states per location</th>\n",
       "      <th>Number of reached functions</th>\n",
       "      <th>Number of partitions</th>\n",
       "      <th>Avg size of partitions</th>\n",
       "      <th>Max size of partitions</th>\n",
       "      <th>Number of target states</th>\n",
       "    </tr>\n",
       "    <tr>\n",
       "      <th>../programs/benchmarks/</th>\n",
       "      <th></th>\n",
       "      <th></th>\n",
       "      <th></th>\n",
       "      <th></th>\n",
       "      <th></th>\n",
       "      <th></th>\n",
       "      <th></th>\n",
       "      <th></th>\n",
       "      <th></th>\n",
       "      <th></th>\n",
       "      <th></th>\n",
       "      <th></th>\n",
       "      <th></th>\n",
       "      <th></th>\n",
       "      <th></th>\n",
       "      <th></th>\n",
       "      <th></th>\n",
       "      <th></th>\n",
       "      <th></th>\n",
       "      <th></th>\n",
       "      <th></th>\n",
       "    </tr>\n",
       "  </thead>\n",
       "  <tbody>\n",
       "    <tr>\n",
       "      <th>reducercommutativity/rangesum05.yml</th>\n",
       "      <td>False</td>\n",
       "      <td>false(unreach-call)</td>\n",
       "      <td>7.805031</td>\n",
       "      <td>4.051601</td>\n",
       "      <td>182.349824</td>\n",
       "      <td>142.0</td>\n",
       "      <td>401.0</td>\n",
       "      <td>434.0</td>\n",
       "      <td>1.07</td>\n",
       "      <td>0.0</td>\n",
       "      <td>...</td>\n",
       "      <td>4.0</td>\n",
       "      <td>3.0</td>\n",
       "      <td>38.0</td>\n",
       "      <td>3.0</td>\n",
       "      <td>18.0</td>\n",
       "      <td>4.0</td>\n",
       "      <td>62.0</td>\n",
       "      <td>2.0</td>\n",
       "      <td>6.0</td>\n",
       "      <td>1.0</td>\n",
       "    </tr>\n",
       "    <tr>\n",
       "      <th>reducercommutativity/rangesum10.yml</th>\n",
       "      <td>False</td>\n",
       "      <td>false(unreach-call)</td>\n",
       "      <td>10.081205</td>\n",
       "      <td>5.211927</td>\n",
       "      <td>236.118016</td>\n",
       "      <td>244.0</td>\n",
       "      <td>605.0</td>\n",
       "      <td>638.0</td>\n",
       "      <td>1.14</td>\n",
       "      <td>0.0</td>\n",
       "      <td>...</td>\n",
       "      <td>4.0</td>\n",
       "      <td>3.0</td>\n",
       "      <td>38.0</td>\n",
       "      <td>6.0</td>\n",
       "      <td>33.0</td>\n",
       "      <td>4.0</td>\n",
       "      <td>62.0</td>\n",
       "      <td>3.0</td>\n",
       "      <td>11.0</td>\n",
       "      <td>1.0</td>\n",
       "    </tr>\n",
       "    <tr>\n",
       "      <th>reducercommutativity/rangesum20.yml</th>\n",
       "      <td>False</td>\n",
       "      <td>false(unreach-call)</td>\n",
       "      <td>12.215046</td>\n",
       "      <td>6.310614</td>\n",
       "      <td>340.832256</td>\n",
       "      <td>454.0</td>\n",
       "      <td>1025.0</td>\n",
       "      <td>1058.0</td>\n",
       "      <td>1.19</td>\n",
       "      <td>0.0</td>\n",
       "      <td>...</td>\n",
       "      <td>4.0</td>\n",
       "      <td>3.0</td>\n",
       "      <td>38.0</td>\n",
       "      <td>11.0</td>\n",
       "      <td>63.0</td>\n",
       "      <td>4.0</td>\n",
       "      <td>62.0</td>\n",
       "      <td>7.0</td>\n",
       "      <td>21.0</td>\n",
       "      <td>1.0</td>\n",
       "    </tr>\n",
       "    <tr>\n",
       "      <th>reducercommutativity/rangesum40.yml</th>\n",
       "      <td>False</td>\n",
       "      <td>false(unreach-call)</td>\n",
       "      <td>17.233255</td>\n",
       "      <td>8.887312</td>\n",
       "      <td>530.350080</td>\n",
       "      <td>874.0</td>\n",
       "      <td>1865.0</td>\n",
       "      <td>1898.0</td>\n",
       "      <td>1.21</td>\n",
       "      <td>0.0</td>\n",
       "      <td>...</td>\n",
       "      <td>4.0</td>\n",
       "      <td>3.0</td>\n",
       "      <td>38.0</td>\n",
       "      <td>23.0</td>\n",
       "      <td>123.0</td>\n",
       "      <td>4.0</td>\n",
       "      <td>62.0</td>\n",
       "      <td>14.0</td>\n",
       "      <td>41.0</td>\n",
       "      <td>1.0</td>\n",
       "    </tr>\n",
       "    <tr>\n",
       "      <th>reducercommutativity/rangesum60.yml</th>\n",
       "      <td>False</td>\n",
       "      <td>false(unreach-call)</td>\n",
       "      <td>23.639261</td>\n",
       "      <td>12.114272</td>\n",
       "      <td>657.444864</td>\n",
       "      <td>1294.0</td>\n",
       "      <td>2705.0</td>\n",
       "      <td>2738.0</td>\n",
       "      <td>1.22</td>\n",
       "      <td>0.0</td>\n",
       "      <td>...</td>\n",
       "      <td>4.0</td>\n",
       "      <td>3.0</td>\n",
       "      <td>38.0</td>\n",
       "      <td>34.0</td>\n",
       "      <td>183.0</td>\n",
       "      <td>4.0</td>\n",
       "      <td>62.0</td>\n",
       "      <td>20.0</td>\n",
       "      <td>61.0</td>\n",
       "      <td>1.0</td>\n",
       "    </tr>\n",
       "  </tbody>\n",
       "</table>\n",
       "<p>5 rows × 62 columns</p>\n",
       "</div>"
      ],
      "text/plain": [
       "                                     Unnamed: 1               status  \\\n",
       "../programs/benchmarks/                                                \n",
       "reducercommutativity/rangesum05.yml       False  false(unreach-call)   \n",
       "reducercommutativity/rangesum10.yml       False  false(unreach-call)   \n",
       "reducercommutativity/rangesum20.yml       False  false(unreach-call)   \n",
       "reducercommutativity/rangesum40.yml       False  false(unreach-call)   \n",
       "reducercommutativity/rangesum60.yml       False  false(unreach-call)   \n",
       "\n",
       "                                     CPU Time (s)  Wall Time (s)  Memory (MB)  \\\n",
       "../programs/benchmarks/                                                         \n",
       "reducercommutativity/rangesum05.yml      7.805031       4.051601   182.349824   \n",
       "reducercommutativity/rangesum10.yml     10.081205       5.211927   236.118016   \n",
       "reducercommutativity/rangesum20.yml     12.215046       6.310614   340.832256   \n",
       "reducercommutativity/rangesum40.yml     17.233255       8.887312   530.350080   \n",
       "reducercommutativity/rangesum60.yml     23.639261      12.114272   657.444864   \n",
       "\n",
       "                                     Size of reached set  \\\n",
       "../programs/benchmarks/                                    \n",
       "reducercommutativity/rangesum05.yml                142.0   \n",
       "reducercommutativity/rangesum10.yml                244.0   \n",
       "reducercommutativity/rangesum20.yml                454.0   \n",
       "reducercommutativity/rangesum40.yml                874.0   \n",
       "reducercommutativity/rangesum60.yml               1294.0   \n",
       "\n",
       "                                     Number of iterations  \\\n",
       "../programs/benchmarks/                                     \n",
       "reducercommutativity/rangesum05.yml                 401.0   \n",
       "reducercommutativity/rangesum10.yml                 605.0   \n",
       "reducercommutativity/rangesum20.yml                1025.0   \n",
       "reducercommutativity/rangesum40.yml                1865.0   \n",
       "reducercommutativity/rangesum60.yml                2705.0   \n",
       "\n",
       "                                     Number of abstraction computations  \\\n",
       "../programs/benchmarks/                                                   \n",
       "reducercommutativity/rangesum05.yml                               434.0   \n",
       "reducercommutativity/rangesum10.yml                               638.0   \n",
       "reducercommutativity/rangesum20.yml                              1058.0   \n",
       "reducercommutativity/rangesum40.yml                              1898.0   \n",
       "reducercommutativity/rangesum60.yml                              2738.0   \n",
       "\n",
       "                                     Number of variables per state  \\\n",
       "../programs/benchmarks/                                              \n",
       "reducercommutativity/rangesum05.yml                           1.07   \n",
       "reducercommutativity/rangesum10.yml                           1.14   \n",
       "reducercommutativity/rangesum20.yml                           1.19   \n",
       "reducercommutativity/rangesum40.yml                           1.21   \n",
       "reducercommutativity/rangesum60.yml                           1.22   \n",
       "\n",
       "                                     Number of global variables per state  \\\n",
       "../programs/benchmarks/                                                     \n",
       "reducercommutativity/rangesum05.yml                                   0.0   \n",
       "reducercommutativity/rangesum10.yml                                   0.0   \n",
       "reducercommutativity/rangesum20.yml                                   0.0   \n",
       "reducercommutativity/rangesum40.yml                                   0.0   \n",
       "reducercommutativity/rangesum60.yml                                   0.0   \n",
       "\n",
       "                                     ...  Number of functions  \\\n",
       "../programs/benchmarks/              ...                        \n",
       "reducercommutativity/rangesum05.yml  ...                  4.0   \n",
       "reducercommutativity/rangesum10.yml  ...                  4.0   \n",
       "reducercommutativity/rangesum20.yml  ...                  4.0   \n",
       "reducercommutativity/rangesum40.yml  ...                  4.0   \n",
       "reducercommutativity/rangesum60.yml  ...                  4.0   \n",
       "\n",
       "                                     Number of loops (and loop nodes)  \\\n",
       "../programs/benchmarks/                                                 \n",
       "reducercommutativity/rangesum05.yml                               3.0   \n",
       "reducercommutativity/rangesum10.yml                               3.0   \n",
       "reducercommutativity/rangesum20.yml                               3.0   \n",
       "reducercommutativity/rangesum40.yml                               3.0   \n",
       "reducercommutativity/rangesum60.yml                               3.0   \n",
       "\n",
       "                                     Number of reached locations  \\\n",
       "../programs/benchmarks/                                            \n",
       "reducercommutativity/rangesum05.yml                         38.0   \n",
       "reducercommutativity/rangesum10.yml                         38.0   \n",
       "reducercommutativity/rangesum20.yml                         38.0   \n",
       "reducercommutativity/rangesum40.yml                         38.0   \n",
       "reducercommutativity/rangesum60.yml                         38.0   \n",
       "\n",
       "                                     Avg states per location  \\\n",
       "../programs/benchmarks/                                        \n",
       "reducercommutativity/rangesum05.yml                      3.0   \n",
       "reducercommutativity/rangesum10.yml                      6.0   \n",
       "reducercommutativity/rangesum20.yml                     11.0   \n",
       "reducercommutativity/rangesum40.yml                     23.0   \n",
       "reducercommutativity/rangesum60.yml                     34.0   \n",
       "\n",
       "                                     Max states per location  \\\n",
       "../programs/benchmarks/                                        \n",
       "reducercommutativity/rangesum05.yml                     18.0   \n",
       "reducercommutativity/rangesum10.yml                     33.0   \n",
       "reducercommutativity/rangesum20.yml                     63.0   \n",
       "reducercommutativity/rangesum40.yml                    123.0   \n",
       "reducercommutativity/rangesum60.yml                    183.0   \n",
       "\n",
       "                                     Number of reached functions  \\\n",
       "../programs/benchmarks/                                            \n",
       "reducercommutativity/rangesum05.yml                          4.0   \n",
       "reducercommutativity/rangesum10.yml                          4.0   \n",
       "reducercommutativity/rangesum20.yml                          4.0   \n",
       "reducercommutativity/rangesum40.yml                          4.0   \n",
       "reducercommutativity/rangesum60.yml                          4.0   \n",
       "\n",
       "                                     Number of partitions  \\\n",
       "../programs/benchmarks/                                     \n",
       "reducercommutativity/rangesum05.yml                  62.0   \n",
       "reducercommutativity/rangesum10.yml                  62.0   \n",
       "reducercommutativity/rangesum20.yml                  62.0   \n",
       "reducercommutativity/rangesum40.yml                  62.0   \n",
       "reducercommutativity/rangesum60.yml                  62.0   \n",
       "\n",
       "                                     Avg size of partitions  \\\n",
       "../programs/benchmarks/                                       \n",
       "reducercommutativity/rangesum05.yml                     2.0   \n",
       "reducercommutativity/rangesum10.yml                     3.0   \n",
       "reducercommutativity/rangesum20.yml                     7.0   \n",
       "reducercommutativity/rangesum40.yml                    14.0   \n",
       "reducercommutativity/rangesum60.yml                    20.0   \n",
       "\n",
       "                                     Max size of partitions  \\\n",
       "../programs/benchmarks/                                       \n",
       "reducercommutativity/rangesum05.yml                     6.0   \n",
       "reducercommutativity/rangesum10.yml                    11.0   \n",
       "reducercommutativity/rangesum20.yml                    21.0   \n",
       "reducercommutativity/rangesum40.yml                    41.0   \n",
       "reducercommutativity/rangesum60.yml                    61.0   \n",
       "\n",
       "                                     Number of target states  \n",
       "../programs/benchmarks/                                       \n",
       "reducercommutativity/rangesum05.yml                      1.0  \n",
       "reducercommutativity/rangesum10.yml                      1.0  \n",
       "reducercommutativity/rangesum20.yml                      1.0  \n",
       "reducercommutativity/rangesum40.yml                      1.0  \n",
       "reducercommutativity/rangesum60.yml                      1.0  \n",
       "\n",
       "[5 rows x 62 columns]"
      ]
     },
     "execution_count": 17,
     "metadata": {},
     "output_type": "execute_result"
    }
   ],
   "source": [
    "data_in = data_dirty.copy()\n",
    "\n",
    "#Drop tasks with status TIMEOUT and unknown\n",
    "# We cannot train on them, because we do not know the stats\n",
    "# at the time when they would have finished\n",
    "columns_false = data_in[data_in.status.str.startswith('false', na=False)]\n",
    "columns_true = data_in[data_in.status.str.startswith('true', na=False)]\n",
    "\n",
    "data_clean = pd.concat([columns_false,columns_true])\n",
    "\n",
    "#Drop completely empty columns\n",
    "# (such as Solver time when evaluating a value analysis result)\n",
    "data_clean = data_clean.dropna(axis='columns',how='all')"
   ]
  },
  {
   "cell_type": "markdown",
   "id": "439c03b0-bb7a-4663-b314-95036276867e",
   "metadata": {},
   "source": [
    "# 1) Baseline Linear Regression: CPU Time + Number of iterations"
   ]
  },
  {
   "cell_type": "markdown",
   "id": "6fe41290-75d4-4c41-af1b-1f6b0f8e9c26",
   "metadata": {},
   "source": [
    "## Select metrics to analyze"
   ]
  },
  {
   "cell_type": "code",
   "execution_count": 4,
   "id": "8c7ebf3b-667a-4c56-ae1f-0e66d712a3af",
   "metadata": {},
   "outputs": [],
   "source": [
    "data_in = data_clean.copy()\n",
    "\n",
    "data_1 = data_in[['CPU Time (s)','Number of iterations']]\n",
    "\n",
    "#Drop rows that have NaN entries\n",
    "data_1 = data_1.dropna()"
   ]
  },
  {
   "cell_type": "markdown",
   "id": "825b111c-12f0-47f6-a0bd-539aba0d996f",
   "metadata": {},
   "source": [
    "## Regression Pipeline"
   ]
  },
  {
   "cell_type": "code",
   "execution_count": 5,
   "id": "e464aeae-05f7-4f77-b373-764f43731638",
   "metadata": {
    "tags": []
   },
   "outputs": [
    {
     "data": {
      "text/html": [
       "<style>#sk-container-id-1 {color: black;background-color: white;}#sk-container-id-1 pre{padding: 0;}#sk-container-id-1 div.sk-toggleable {background-color: white;}#sk-container-id-1 label.sk-toggleable__label {cursor: pointer;display: block;width: 100%;margin-bottom: 0;padding: 0.3em;box-sizing: border-box;text-align: center;}#sk-container-id-1 label.sk-toggleable__label-arrow:before {content: \"▸\";float: left;margin-right: 0.25em;color: #696969;}#sk-container-id-1 label.sk-toggleable__label-arrow:hover:before {color: black;}#sk-container-id-1 div.sk-estimator:hover label.sk-toggleable__label-arrow:before {color: black;}#sk-container-id-1 div.sk-toggleable__content {max-height: 0;max-width: 0;overflow: hidden;text-align: left;background-color: #f0f8ff;}#sk-container-id-1 div.sk-toggleable__content pre {margin: 0.2em;color: black;border-radius: 0.25em;background-color: #f0f8ff;}#sk-container-id-1 input.sk-toggleable__control:checked~div.sk-toggleable__content {max-height: 200px;max-width: 100%;overflow: auto;}#sk-container-id-1 input.sk-toggleable__control:checked~label.sk-toggleable__label-arrow:before {content: \"▾\";}#sk-container-id-1 div.sk-estimator input.sk-toggleable__control:checked~label.sk-toggleable__label {background-color: #d4ebff;}#sk-container-id-1 div.sk-label input.sk-toggleable__control:checked~label.sk-toggleable__label {background-color: #d4ebff;}#sk-container-id-1 input.sk-hidden--visually {border: 0;clip: rect(1px 1px 1px 1px);clip: rect(1px, 1px, 1px, 1px);height: 1px;margin: -1px;overflow: hidden;padding: 0;position: absolute;width: 1px;}#sk-container-id-1 div.sk-estimator {font-family: monospace;background-color: #f0f8ff;border: 1px dotted black;border-radius: 0.25em;box-sizing: border-box;margin-bottom: 0.5em;}#sk-container-id-1 div.sk-estimator:hover {background-color: #d4ebff;}#sk-container-id-1 div.sk-parallel-item::after {content: \"\";width: 100%;border-bottom: 1px solid gray;flex-grow: 1;}#sk-container-id-1 div.sk-label:hover label.sk-toggleable__label {background-color: #d4ebff;}#sk-container-id-1 div.sk-serial::before {content: \"\";position: absolute;border-left: 1px solid gray;box-sizing: border-box;top: 0;bottom: 0;left: 50%;z-index: 0;}#sk-container-id-1 div.sk-serial {display: flex;flex-direction: column;align-items: center;background-color: white;padding-right: 0.2em;padding-left: 0.2em;position: relative;}#sk-container-id-1 div.sk-item {position: relative;z-index: 1;}#sk-container-id-1 div.sk-parallel {display: flex;align-items: stretch;justify-content: center;background-color: white;position: relative;}#sk-container-id-1 div.sk-item::before, #sk-container-id-1 div.sk-parallel-item::before {content: \"\";position: absolute;border-left: 1px solid gray;box-sizing: border-box;top: 0;bottom: 0;left: 50%;z-index: -1;}#sk-container-id-1 div.sk-parallel-item {display: flex;flex-direction: column;z-index: 1;position: relative;background-color: white;}#sk-container-id-1 div.sk-parallel-item:first-child::after {align-self: flex-end;width: 50%;}#sk-container-id-1 div.sk-parallel-item:last-child::after {align-self: flex-start;width: 50%;}#sk-container-id-1 div.sk-parallel-item:only-child::after {width: 0;}#sk-container-id-1 div.sk-dashed-wrapped {border: 1px dashed gray;margin: 0 0.4em 0.5em 0.4em;box-sizing: border-box;padding-bottom: 0.4em;background-color: white;}#sk-container-id-1 div.sk-label label {font-family: monospace;font-weight: bold;display: inline-block;line-height: 1.2em;}#sk-container-id-1 div.sk-label-container {text-align: center;}#sk-container-id-1 div.sk-container {/* jupyter's `normalize.less` sets `[hidden] { display: none; }` but bootstrap.min.css set `[hidden] { display: none !important; }` so we also need the `!important` here to be able to override the default hidden behavior on the sphinx rendered scikit-learn.org. See: https://github.com/scikit-learn/scikit-learn/issues/21755 */display: inline-block !important;position: relative;}#sk-container-id-1 div.sk-text-repr-fallback {display: none;}</style><div id=\"sk-container-id-1\" class=\"sk-top-container\"><div class=\"sk-text-repr-fallback\"><pre>LinearRegression()</pre><b>In a Jupyter environment, please rerun this cell to show the HTML representation or trust the notebook. <br />On GitHub, the HTML representation is unable to render, please try loading this page with nbviewer.org.</b></div><div class=\"sk-container\" hidden><div class=\"sk-item\"><div class=\"sk-estimator sk-toggleable\"><input class=\"sk-toggleable__control sk-hidden--visually\" id=\"sk-estimator-id-1\" type=\"checkbox\" checked><label for=\"sk-estimator-id-1\" class=\"sk-toggleable__label sk-toggleable__label-arrow\">LinearRegression</label><div class=\"sk-toggleable__content\"><pre>LinearRegression()</pre></div></div></div></div></div>"
      ],
      "text/plain": [
       "LinearRegression()"
      ]
     },
     "execution_count": 5,
     "metadata": {},
     "output_type": "execute_result"
    }
   ],
   "source": [
    "x_sr = data_1['Number of iterations']\n",
    "y_sr = data_1['CPU Time (s)']\n",
    "\n",
    "LR = LinearRegression()\n",
    "LR.fit(x_sr.values.reshape(-1,1),y_sr.values)"
   ]
  },
  {
   "cell_type": "code",
   "execution_count": 6,
   "id": "0e536b41-7a33-4be0-ac83-17a89b38087a",
   "metadata": {},
   "outputs": [
    {
     "data": {
      "image/png": "[encoded data removed]",
      "text/plain": [
       "<Figure size 1000x1000 with 3 Axes>"
      ]
     },
     "metadata": {},
     "output_type": "display_data"
    }
   ],
   "source": [
    "sns.jointplot(data=data_1, x=\"Number of iterations\", y=\"CPU Time (s)\", height=10, marginal_kws={\"bins\":30,}, kind=\"reg\");"
   ]
  },
  {
   "cell_type": "markdown",
   "id": "8b215a4d-33fc-40bb-95a8-1d815d9e5e4a",
   "metadata": {},
   "source": [
    "## 5-Fold Cross Validation"
   ]
  },
  {
   "cell_type": "code",
   "execution_count": 7,
   "id": "6d9a3053-fd79-4538-aeb6-7bbc0ea3c6bc",
   "metadata": {
    "tags": []
   },
   "outputs": [
    {
     "name": "stdout",
     "output_type": "stream",
     "text": [
      "Mean r2 = -13.48 with a standard deviation of 28.18:\n",
      "Individual r2 values: [  0.78785148   0.58218299   0.60896076 -69.84601617   0.46400649]\n"
     ]
    }
   ],
   "source": [
    "scores = cross_val_score(LR, x_sr.values.reshape(-1,1), y_sr.values, cv=5)\n",
    "print(\"Mean r2 = %0.2f with a standard deviation of %0.2f:\\nIndividual r2 values: %s\" % (scores.mean(), scores.std(), scores))"
   ]
  },
  {
   "cell_type": "markdown",
   "id": "384b3a40-37bf-4174-96d3-6bff3779e81b",
   "metadata": {},
   "source": [
    "# 2) Multiple Linear Regression: Manual Feature Selection"
   ]
  },
  {
   "cell_type": "markdown",
   "id": "17de5db8-814d-4b29-88ac-7fc35374d1c1",
   "metadata": {},
   "source": [
    "## Select metrics to analyze"
   ]
  },
  {
   "cell_type": "code",
   "execution_count": 8,
   "id": "51c05bbf-37a2-41b9-85f1-63967c6bcde4",
   "metadata": {
    "tags": []
   },
   "outputs": [],
   "source": [
    "data_in = data_clean.copy()\n",
    "\n",
    "#Manually chosen features\n",
    "data_2 = data_in[['CPU Time (s)','Number of iterations','Avg size of partitions','Size of reached set','Number of unique precision increments']]\n",
    "\n",
    "#Drop rows that have NaN entries in chosen features\n",
    "data_2 = data_2.dropna()"
   ]
  },
  {
   "cell_type": "markdown",
   "id": "caa6bcad-cff8-4657-bcd1-c474bbabdd22",
   "metadata": {},
   "source": [
    "## Regression Pipeline"
   ]
  },
  {
   "cell_type": "code",
   "execution_count": 9,
   "id": "7e16f626-2150-40c2-9b47-ac75cee79b27",
   "metadata": {},
   "outputs": [],
   "source": [
    "#CPU time is dependent variable\n",
    "x_mr_df = data_2.drop(['CPU Time (s)'],axis=1)\n",
    "y_mr_df = data_2['CPU Time (s)']\n",
    "x_mr = x_mr_df.values\n",
    "y_mr = y_mr_df.values\n",
    "\n",
    "LR = LinearRegression()\n",
    "pipeline = make_pipeline(StandardScaler(), LR)"
   ]
  },
  {
   "cell_type": "markdown",
   "id": "dbece455-484c-4a8f-bd67-6c254ed17fea",
   "metadata": {},
   "source": [
    "## 5-Fold Cross Validation"
   ]
  },
  {
   "cell_type": "code",
   "execution_count": 10,
   "id": "24f0cc64-6ad1-4ba7-910d-c5019c2d86ec",
   "metadata": {},
   "outputs": [
    {
     "name": "stdout",
     "output_type": "stream",
     "text": [
      "Mean r2 = -1.07 with a standard deviation of 3.26:\n",
      "Individual r2 values: [ 0.77468396  0.50903707  0.71639847 -7.57480248  0.20317295]\n"
     ]
    }
   ],
   "source": [
    "scores = cross_val_score(pipeline, x_mr, y_mr, cv=5)\n",
    "print(\"Mean r2 = %0.2f with a standard deviation of %0.2f:\\nIndividual r2 values: %s\" % (scores.mean(), scores.std(), scores))"
   ]
  },
  {
   "cell_type": "markdown",
   "id": "06793336-38cd-4ae0-bdfb-d6b532c2ed2b",
   "metadata": {
    "tags": []
   },
   "source": [
    "# 3) Multiple Linear Regression: Sequential Feature Selection"
   ]
  },
  {
   "cell_type": "markdown",
   "id": "23027518-0c2d-4b18-ab1b-c558c0ad0992",
   "metadata": {},
   "source": [
    "## Select metrics to analyze"
   ]
  },
  {
   "cell_type": "code",
   "execution_count": 11,
   "id": "95fdb5a6-80ae-4215-8400-51762d7ad87f",
   "metadata": {
    "tags": []
   },
   "outputs": [],
   "source": [
    "data_in = data_clean.copy()\n",
    "\n",
    "#Drop columns that are text: status, verdict (Unnamed: 1), Wall Time (s)\n",
    "#Drop columns that are non-deterministic: Memory according to Martin\n",
    "#Drop columns with discrete values: 'Number of target states'\n",
    "data_3 = data_in.drop(['status','Unnamed: 1','Wall Time (s)','Automaton transfer successors','Memory (MB)','Number of target states'],axis=1,errors='ignore')\n",
    "\n",
    "#Drop rows that have NaN entries in chosen features\n",
    "data_3 = data_3.dropna()"
   ]
  },
  {
   "cell_type": "markdown",
   "id": "86cec636-d914-4f9e-a996-cd3a3e8195b1",
   "metadata": {},
   "source": [
    "## Regression Pipeline"
   ]
  },
  {
   "cell_type": "code",
   "execution_count": 12,
   "id": "e962dd9f-e1e2-4416-be52-b42a5eb76d6d",
   "metadata": {
    "tags": []
   },
   "outputs": [],
   "source": [
    "#CPU time is dependent variable\n",
    "x_mr_df = data_3.drop(['CPU Time (s)'],axis=1)\n",
    "y_mr_df = data_3['CPU Time (s)']\n",
    "x_mr = x_mr_df.values\n",
    "y_mr = y_mr_df.values\n",
    "\n",
    "LR =  LinearRegression()\n",
    "pipeline = make_pipeline(StandardScaler(), LR)"
   ]
  },
  {
   "cell_type": "markdown",
   "id": "b43ca381-f6a8-4b76-83ed-6ca563b9951e",
   "metadata": {},
   "source": [
    "## Sequential Feature Selection"
   ]
  },
  {
   "cell_type": "code",
   "execution_count": 13,
   "id": "74799360-7465-486a-bdf2-71728ccd1004",
   "metadata": {
    "tags": []
   },
   "outputs": [
    {
     "name": "stdout",
     "output_type": "stream",
     "text": [
      "Features selected by forward sequential selection:\n",
      "['Max size of waitlist' 'Number of unique precision increments'\n",
      " 'Avg. size of reached set before ref.' 'Number of functions'\n",
      " 'Number of reached locations']\n"
     ]
    }
   ],
   "source": [
    "sfs_forward = SequentialFeatureSelector(\n",
    "    pipeline, n_features_to_select=5, direction=\"forward\"\n",
    ").fit(x_mr, y_mr)\n",
    "\n",
    "feature_names = x_mr_df.columns.values\n",
    "print(\n",
    "    \"Features selected by forward sequential selection:\\n\"\n",
    "    f\"{feature_names[sfs_forward.get_support()]}\"\n",
    ")"
   ]
  },
  {
   "cell_type": "markdown",
   "id": "0605db94-a594-4113-8c2e-a054a0862c6f",
   "metadata": {},
   "source": [
    "## 5-Fold Cross Validation"
   ]
  },
  {
   "cell_type": "code",
   "execution_count": 14,
   "id": "efea763a-64c8-410d-a6d5-2ad1ec68108e",
   "metadata": {
    "tags": []
   },
   "outputs": [
    {
     "name": "stdout",
     "output_type": "stream",
     "text": [
      "Mean r2 = 0.54 with a standard deviation of 0.15:\n",
      "Individual r2 values: [0.72016752 0.51497614 0.50793935 0.67497086 0.29355133]\n"
     ]
    }
   ],
   "source": [
    "x_selected = x_mr_df[feature_names[sfs_forward.get_support()]]\n",
    "feature_names = x_selected.columns.values\n",
    "\n",
    "scores = cross_val_score(pipeline, x_selected, y_mr, cv=5)\n",
    "print(\"Mean r2 = %0.2f with a standard deviation of %0.2f:\\nIndividual r2 values: %s\" % (scores.mean(), scores.std(), scores))"
   ]
  },
  {
   "cell_type": "code",
   "execution_count": null,
   "id": "fbf3e716-113a-4b25-b01d-dcce240d86ac",
   "metadata": {},
   "outputs": [],
   "source": []
  }
 ],
 "metadata": {
  "kernelspec": {
   "display_name": "Python 3 (ipykernel)",
   "language": "python",
   "name": "python3"
  },
  "language_info": {
   "codemirror_mode": {
    "name": "ipython",
    "version": 3
   },
   "file_extension": ".py",
   "mimetype": "text/x-python",
   "name": "python",
   "nbconvert_exporter": "python",
   "pygments_lexer": "ipython3",
   "version": "3.11.2"
  }
 },
 "nbformat": 4,
 "nbformat_minor": 5
}
